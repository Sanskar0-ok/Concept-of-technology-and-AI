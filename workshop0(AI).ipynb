{
  "nbformat": 4,
  "nbformat_minor": 0,
  "metadata": {
    "colab": {
      "provenance": []
    },
    "kernelspec": {
      "name": "python3",
      "display_name": "Python 3"
    },
    "language_info": {
      "name": "python"
    }
  },
  "cells": [
    {
      "cell_type": "markdown",
      "source": [
        "Task 1. Classify Temperatures:\n",
        "1. Create empty lists for temperature classifications:\n",
        "(a) Cold: temperatures below 10°C.\n",
        "(b) Mild: temperatures between 10°C and 15°C.\n",
        "(c) Comfortable: temperatures between 15°C and 20°C.\n",
        "2. Iterate over the temperatures list and add each temperature to the appropriate category.\n",
        "3. Print the lists to verify the classifications."
      ],
      "metadata": {
        "id": "pCCT_V3bcMjP"
      }
    },
    {
      "cell_type": "code",
      "execution_count": 1,
      "metadata": {
        "colab": {
          "base_uri": "https://localhost:8080/"
        },
        "id": "J0GsTUzTaQTx",
        "outputId": "7350267d-d198-4f25-8e84-fe0184ae440e"
      },
      "outputs": [
        {
          "output_type": "stream",
          "name": "stdout",
          "text": [
            "Cold temperatures: [8.2, 7.9, 9.0, 8.5, 7.7, 8.4, 9.5, 8.1, 7.6, 8.0, 7.8, 8.7, 9.2, 8.3, 8.9, 7.8]\n",
            "Mild temperatures: [14.1, 13.5, 13.0, 12.9, 13.3, 14.0, 13.4, 14.2, 12.8, 13.7, 13.6, 13.8, 13.9, 12.7, 13.1, 12.5]\n",
            "Comfortable temperatures: [17.4, 18.0, 17.8, 16.5, 17.2, 16.7, 18.3, 17.9, 17.0, 16.8, 17.5, 17.1, 18.1, 16.4, 18.2, 16.6]\n"
          ]
        }
      ],
      "source": [
        "# List of temperature readings in Celsius for one month in Kathmandu\n",
        "# Each day has three readings: night (00-08), evening (08-16), and day (16-24)\n",
        "temperatures = [8.2, 17.4, 14.1, 7.9, 18.0, 13.5, 9.0, 17.8, 13.0, 8.5,\n",
        "                16.5, 12.9, 7.7, 17.2, 13.3, 8.4, 16.7, 14.0, 9.5, 18.3,\n",
        "                13.4, 8.1, 17.9, 14.2, 7.6, 17.0, 12.8, 8.0, 16.8, 13.7,\n",
        "                7.8, 17.5, 13.6, 8.7, 17.1, 13.8, 9.2, 18.1, 13.9, 8.3,\n",
        "                16.4, 12.7, 8.9, 18.2, 13.1, 7.8, 16.6, 12.5]\n",
        "\n",
        "# Create empty lists for temperature classifications\n",
        "cold = []      # Temperatures below 10°C\n",
        "mild = []      # Temperatures between 10°C and 15°C\n",
        "comfortable = []  # Temperatures between 15°C and 20°C\n",
        "\n",
        "# Iterate over the temperatures and classify them\n",
        "for temp in temperatures:\n",
        "    if temp < 10:\n",
        "        cold.append(temp)\n",
        "    elif 10 <= temp < 15:\n",
        "        mild.append(temp)\n",
        "    elif 15 <= temp <= 20:\n",
        "        comfortable.append(temp)\n",
        "\n",
        "# Print the lists to verify classifications\n",
        "print(\"Cold temperatures:\", cold)\n",
        "print(\"Mild temperatures:\", mild)\n",
        "print(\"Comfortable temperatures:\", comfortable)\n",
        "\n"
      ]
    },
    {
      "cell_type": "markdown",
      "source": [
        "  Task 2. Based on Data- Answer all the Questions:\n",
        " 1. How many times was it mild?\n",
        " (a) Hint: Count the number of items in the mild list and print the result.\n",
        " 2. How many times was it comfortable?\n",
        " 3. How many times was it cold\n"
      ],
      "metadata": {
        "id": "De7wpqkHc0Eo"
      }
    },
    {
      "cell_type": "code",
      "source": [
        "# Task 1: Classify Temperatures\n",
        "\n",
        "# List of temperature readings in Celsius for one month in Kathmandu\n",
        "# Each day has three readings: night (00-08), evening (08-16), and day (16-24)\n",
        "temperatures = [8.2, 17.4, 14.1, 7.9, 18.0, 13.5, 9.0, 17.8, 13.0, 8.5,\n",
        "                16.5, 12.9, 7.7, 17.2, 13.3, 8.4, 16.7, 14.0, 9.5, 18.3,\n",
        "                13.4, 8.1, 17.9, 14.2, 7.6, 17.0, 12.8, 8.0, 16.8, 13.7,\n",
        "                7.8, 17.5, 13.6, 8.7, 17.1, 13.8, 9.2, 18.1, 13.9, 8.3,\n",
        "                16.4, 12.7, 8.9, 18.2, 13.1, 7.8, 16.6, 12.5]\n",
        "\n",
        "# Create empty lists for temperature classifications\n",
        "cold = []      # Temperatures below 10°C\n",
        "mild = []      # Temperatures between 10°C and 15°C\n",
        "comfortable = []  # Temperatures between 15°C and 20°C\n",
        "\n",
        "# Iterate over the temperatures and classify them\n",
        "for temp in temperatures:\n",
        "    if temp < 10:\n",
        "        cold.append(temp)\n",
        "    elif 10 <= temp < 15:\n",
        "        mild.append(temp)\n",
        "    elif 15 <= temp <= 20:\n",
        "        comfortable.append(temp)\n",
        "\n",
        "# Print the lists to verify classifications\n",
        "print(\"Cold temperatures:\", cold)\n",
        "print(\"Mild temperatures:\", mild)\n",
        "print(\"Comfortable temperatures:\", comfortable)\n",
        "\n",
        "# Task 2: Count occurrences in each category\n",
        "num_cold = len(cold)\n",
        "num_mild = len(mild)\n",
        "num_comfortable = len(comfortable)\n",
        "\n",
        "print(\"\\nNumber of times it was cold:\", num_cold)\n",
        "print(\"Number of times it was mild:\", num_mild)\n",
        "print(\"Number of times it was comfortable:\", num_comfortable)\n"
      ],
      "metadata": {
        "colab": {
          "base_uri": "https://localhost:8080/"
        },
        "id": "nwF_PF73c1zb",
        "outputId": "d22be0c3-e7b8-4b38-94f0-77b9a22cee22"
      },
      "execution_count": 2,
      "outputs": [
        {
          "output_type": "stream",
          "name": "stdout",
          "text": [
            "Cold temperatures: [8.2, 7.9, 9.0, 8.5, 7.7, 8.4, 9.5, 8.1, 7.6, 8.0, 7.8, 8.7, 9.2, 8.3, 8.9, 7.8]\n",
            "Mild temperatures: [14.1, 13.5, 13.0, 12.9, 13.3, 14.0, 13.4, 14.2, 12.8, 13.7, 13.6, 13.8, 13.9, 12.7, 13.1, 12.5]\n",
            "Comfortable temperatures: [17.4, 18.0, 17.8, 16.5, 17.2, 16.7, 18.3, 17.9, 17.0, 16.8, 17.5, 17.1, 18.1, 16.4, 18.2, 16.6]\n",
            "\n",
            "Number of times it was cold: 16\n",
            "Number of times it was mild: 16\n",
            "Number of times it was comfortable: 16\n"
          ]
        }
      ]
    },
    {
      "cell_type": "markdown",
      "source": [
        " Task 3. Convert Temperatures from Celsius to Fahrenheit\n",
        " Using the formula for temperature conversion, convert each reading from Celsius to Fahren\n",
        "heit and store it in a new list called temperatures_fahrenheit.\n",
        " Formula:\n",
        " Fahrenheit = (Celsius × 9\n",
        " 5 ) +32\n",
        " 1. Iterate over the temperatures list and apply the formula to convert each temperature.\n",
        " 2. Store the results in the new list.\n",
        " 3. Print the converted Fahrenheit values"
      ],
      "metadata": {
        "id": "5CF4-I-zc-Mt"
      }
    },
    {
      "cell_type": "code",
      "source": [
        "# Task 1: Classify Temperatures\n",
        "\n",
        "# List of temperature readings in Celsius for one month in Kathmandu\n",
        "# Each day has three readings: night (00-08), evening (08-16), and day (16-24)\n",
        "temperatures = [8.2, 17.4, 14.1, 7.9, 18.0, 13.5, 9.0, 17.8, 13.0, 8.5,\n",
        "                16.5, 12.9, 7.7, 17.2, 13.3, 8.4, 16.7, 14.0, 9.5, 18.3,\n",
        "                13.4, 8.1, 17.9, 14.2, 7.6, 17.0, 12.8, 8.0, 16.8, 13.7,\n",
        "                7.8, 17.5, 13.6, 8.7, 17.1, 13.8, 9.2, 18.1, 13.9, 8.3,\n",
        "                16.4, 12.7, 8.9, 18.2, 13.1, 7.8, 16.6, 12.5]\n",
        "\n",
        "# Create empty lists for temperature classifications\n",
        "cold = []      # Temperatures below 10°C\n",
        "mild = []      # Temperatures between 10°C and 15°C\n",
        "comfortable = []  # Temperatures between 15°C and 20°C\n",
        "\n",
        "# Iterate over the temperatures and classify them\n",
        "for temp in temperatures:\n",
        "    if temp < 10:\n",
        "        cold.append(temp)\n",
        "    elif 10 <= temp < 15:\n",
        "        mild.append(temp)\n",
        "    elif 15 <= temp <= 20:\n",
        "        comfortable.append(temp)\n",
        "\n",
        "# Print the lists to verify classifications\n",
        "print(\"Cold temperatures:\", cold)\n",
        "print(\"Mild temperatures:\", mild)\n",
        "print(\"Comfortable temperatures:\", comfortable)\n",
        "\n",
        "# Task 2: Count occurrences in each category\n",
        "num_cold = len(cold)\n",
        "num_mild = len(mild)\n",
        "num_comfortable = len(comfortable)\n",
        "\n",
        "print(\"\\nNumber of times it was cold:\", num_cold)\n",
        "print(\"Number of times it was mild:\", num_mild)\n",
        "print(\"Number of times it was comfortable:\", num_comfortable)\n",
        "\n",
        "# Task 3: Convert Temperatures from Celsius to Fahrenheit\n",
        "# Formula: Fahrenheit = (Celsius × 9/5) + 32\n",
        "temperatures_fahrenheit = [(temp * 9/5) + 32 for temp in temperatures]\n",
        "\n",
        "# Print the converted Fahrenheit values\n",
        "print(\"\\nTemperatures in Fahrenheit:\", temperatures_fahrenheit)\n"
      ],
      "metadata": {
        "colab": {
          "base_uri": "https://localhost:8080/"
        },
        "id": "vf36gRCmdA8q",
        "outputId": "84195cc9-9878-4420-f3e8-9a5d8ffcfab2"
      },
      "execution_count": 3,
      "outputs": [
        {
          "output_type": "stream",
          "name": "stdout",
          "text": [
            "Cold temperatures: [8.2, 7.9, 9.0, 8.5, 7.7, 8.4, 9.5, 8.1, 7.6, 8.0, 7.8, 8.7, 9.2, 8.3, 8.9, 7.8]\n",
            "Mild temperatures: [14.1, 13.5, 13.0, 12.9, 13.3, 14.0, 13.4, 14.2, 12.8, 13.7, 13.6, 13.8, 13.9, 12.7, 13.1, 12.5]\n",
            "Comfortable temperatures: [17.4, 18.0, 17.8, 16.5, 17.2, 16.7, 18.3, 17.9, 17.0, 16.8, 17.5, 17.1, 18.1, 16.4, 18.2, 16.6]\n",
            "\n",
            "Number of times it was cold: 16\n",
            "Number of times it was mild: 16\n",
            "Number of times it was comfortable: 16\n",
            "\n",
            "Temperatures in Fahrenheit: [46.76, 63.32, 57.379999999999995, 46.22, 64.4, 56.3, 48.2, 64.04, 55.4, 47.3, 61.7, 55.22, 45.86, 62.959999999999994, 55.94, 47.120000000000005, 62.059999999999995, 57.2, 49.1, 64.94, 56.120000000000005, 46.58, 64.22, 57.56, 45.68, 62.6, 55.04, 46.4, 62.24, 56.66, 46.04, 63.5, 56.48, 47.66, 62.78, 56.84, 48.56, 64.58, 57.02, 46.94, 61.519999999999996, 54.86, 48.02, 64.75999999999999, 55.58, 46.04, 61.88, 54.5]\n"
          ]
        }
      ]
    },
    {
      "cell_type": "markdown",
      "source": [
        " Task 4. Analyze Temperature Patterns by Time of Day:\n",
        " Scenario: Each day’s readings are grouped as:\n",
        " • Night (00-08),\n",
        " • Evening (08-16),\n",
        " • Day (16-24).\n",
        " 1. Create empty lists for night, day, and evening temperatures.\n",
        " 2. Iterate over the temperatures list, assigning values to each time-of-day list based on\n",
        " their position.\n",
        " 3. Calculate and print the average day-time temperature.\n",
        " 4. (Optional) Plot ”day vs. temperature” using matplotlib"
      ],
      "metadata": {
        "id": "BHBkadI6dI6l"
      }
    },
    {
      "cell_type": "code",
      "source": [
        "# Importing necessary libraries\n",
        "import matplotlib.pyplot as plt\n",
        "\n",
        "# Sample data: Temperatures recorded every hour for a day (24 readings)\n",
        "temperatures = [15, 14, 13, 12, 14, 13, 12, 13,  # Night (00-08)\n",
        "                18, 20, 22, 21, 19, 18, 17, 16,  # Evening (08-16)\n",
        "                20, 21, 23, 24, 22, 21, 19, 18]  # Day (16-24)\n",
        "\n",
        "# Step 1: Create empty lists for night, evening, and day temperatures\n",
        "night_temps = []\n",
        "evening_temps = []\n",
        "day_temps = []\n",
        "\n",
        "# Step 2: Assign values to respective lists based on position\n",
        "for i, temp in enumerate(temperatures):\n",
        "    if 0 <= i < 8:  # Night (00-08)\n",
        "        night_temps.append(temp)\n",
        "    elif 8 <= i < 16:  # Evening (08-16)\n",
        "        evening_temps.append(temp)\n",
        "    elif 16 <= i < 24:  # Day (16-24)\n",
        "        day_temps.append(temp)\n",
        "\n",
        "# Step 3: Calculate and print the average daytime temperature\n",
        "if day_temps:\n",
        "    avg_day_temp = sum(day_temps) / len(day_temps)\n",
        "    print(f\"Average daytime temperature: {avg_day_temp:.2f}°C\")\n",
        "else:\n",
        "    print(\"No daytime temperatures available to calculate the average.\")\n",
        "\n",
        "# Step 4: Optional: Plot \"day vs. temperature\" using matplotlib\n",
        "plt.plot(range(len(day_temps)), day_temps, marker='o', label=\"Day Temperatures\")\n",
        "plt.xlabel(\"Hour (16:00 - 24:00)\")\n",
        "plt.ylabel(\"Temperature (°C)\")\n",
        "plt.title(\"Day vs. Temperature\")\n",
        "plt.grid(True)\n",
        "plt.legend()\n",
        "plt.show()\n"
      ],
      "metadata": {
        "colab": {
          "base_uri": "https://localhost:8080/",
          "height": 489
        },
        "id": "OYVHn2TSdJt5",
        "outputId": "3bcf392f-7af0-4633-d1d4-8999a6a77664"
      },
      "execution_count": 5,
      "outputs": [
        {
          "output_type": "stream",
          "name": "stdout",
          "text": [
            "Average daytime temperature: 21.00°C\n"
          ]
        },
        {
          "output_type": "display_data",
          "data": {
            "text/plain": [
              "<Figure size 640x480 with 1 Axes>"
            ],
            "image/png": "[encoded data removed]"
          },
          "metadata": {}
        }
      ]
    },
    {
      "cell_type": "markdown",
      "source": [
        "Task 5- Sum of Nested Lists:\n",
        " Scenario: You have a list that contains numbers and other lists of numbers (nested lists).\n",
        " You want to find the total sum of all the numbers in this structure.\n",
        " Task:\n",
        " • Write a recursive function sum_nested_list(nested_list) that:\n",
        " 1. Takes a nested list (a list that can contain numbers or other lists of numbers) as\n",
        " input.\n",
        " 2. Sums all numbers at every depth level of the list, regardless of how deeply nested\n",
        " the numbers are.\n",
        " • Test the function with a sample nested list, such as\n",
        " nested_list = [1, [2, [3, 4], 5], 6, [7, 8]].\n",
        " The result should be the total sum of all the numbers\n"
      ],
      "metadata": {
        "id": "LySL1w3_dXgx"
      }
    },
    {
      "cell_type": "code",
      "source": [
        "def sum_nested_list(nested_list):\n",
        "    \"\"\"\n",
        "    Recursively calculates the sum of all numbers in a nested list.\n",
        "\n",
        "    :param nested_list: A list containing numbers or other lists of numbers.\n",
        "    :return: Total sum of all numbers.\n",
        "    \"\"\"\n",
        "    total_sum = 0\n",
        "    for element in nested_list:\n",
        "        if isinstance(element, list):  # If the element is a list, call the function recursively\n",
        "            total_sum += sum_nested_list(element)\n",
        "        else:  # If the element is a number, add it to the sum\n",
        "            total_sum += element\n",
        "    return total_sum\n",
        "\n",
        "# Test the function with a sample nested list\n",
        "nested_list = [1, [2, [3, 4], 5], 6, [7, 8]]\n",
        "result = sum_nested_list(nested_list)\n",
        "print(f\"The total sum of all numbers in the nested list is: {result}\")\n"
      ],
      "metadata": {
        "colab": {
          "base_uri": "https://localhost:8080/"
        },
        "id": "j3eUd3UcdYPI",
        "outputId": "ef21d6e4-6e71-4634-bd40-62db986a9ec7"
      },
      "execution_count": 6,
      "outputs": [
        {
          "output_type": "stream",
          "name": "stdout",
          "text": [
            "The total sum of all numbers in the nested list is: 36\n"
          ]
        }
      ]
    },
    {
      "cell_type": "markdown",
      "source": [
        " Task2-Generate All Permutations of a String:\n",
        " Scenario:Givena string,generate all possibleper mutations of itscharacters.Thisisuseful\n",
        " forunder  standing back tracking and recursive depth-first search.\n",
        " Task:\n",
        " •Write are cursive function generate_permutations(s)that:–Takes a strings as input an dreturnsalist of all uniqueper mutations.\n",
        " •Test with strings like”abc”and”aab”.\n",
        " print(generate_permutations(\"abc\"))\n",
        "\n",
        "                                                                               Shouldreturn [’abc’, ’acb’, ’bac’, ’bca’,’cab’, ’cba’]"
      ],
      "metadata": {
        "id": "0axa0rkCdfAI"
      }
    },
    {
      "cell_type": "code",
      "source": [
        "def generate_permutations(s):\n",
        "    \"\"\"\n",
        "    Generates all unique permutations of a string using recursion.\n",
        "\n",
        "    :param s: The input string.\n",
        "    :return: A list of unique permutations.\n",
        "    \"\"\"\n",
        "    # Base case: if the string is empty or has one character, return it as the only permutation\n",
        "    if len(s) <= 1:\n",
        "        return [s]\n",
        "\n",
        "    # Recursive case: generate permutations by selecting each character as the start\n",
        "    permutations = []\n",
        "    for i, char in enumerate(s):\n",
        "        # Avoid duplicate permutations for repeated characters\n",
        "        if char in s[:i]:\n",
        "            continue\n",
        "        # Remaining string after removing the current character\n",
        "        remaining = s[:i] + s[i+1:]\n",
        "        # Generate permutations for the remaining string\n",
        "        for perm in generate_permutations(remaining):\n",
        "            permutations.append(char + perm)\n",
        "\n",
        "    return permutations\n",
        "\n",
        "# Test the function with example strings\n",
        "print(\"Permutations of 'abc':\", generate_permutations(\"abc\"))\n",
        "print(\"Permutations of 'aab':\", generate_permutations(\"aab\"))\n"
      ],
      "metadata": {
        "colab": {
          "base_uri": "https://localhost:8080/"
        },
        "id": "DeUK8XtKdiP8",
        "outputId": "97640e55-48c2-45fd-b6f6-0714ebd9f43a"
      },
      "execution_count": 7,
      "outputs": [
        {
          "output_type": "stream",
          "name": "stdout",
          "text": [
            "Permutations of 'abc': ['abc', 'acb', 'bac', 'bca', 'cab', 'cba']\n",
            "Permutations of 'aab': ['aab', 'aba', 'baa']\n"
          ]
        }
      ]
    },
    {
      "cell_type": "markdown",
      "source": [
        " Task3-Directory Size Calculation:\n",
        " 1. Write a recursive function calculate_directory_size(directory) where:\n",
        " • directory is a dictionary where keys represent file names (with values as sizes in\n",
        " KB) or directory names (with values as another dictionary representing a subdi\n",
        "rectory).\n",
        " • The function should return the total size of the directory, including all nested\n",
        " subdirectories.\n",
        " 2. Test the function with a sample directory structure."
      ],
      "metadata": {
        "id": "B2rfCiBOdz7U"
      }
    },
    {
      "cell_type": "code",
      "source": [
        "def calculate_directory_size(directory):\n",
        "    \"\"\"\n",
        "    Recursively calculates the total size of a directory, including nested subdirectories.\n",
        "\n",
        "    :param directory: A dictionary representing the directory structure.\n",
        "                      Keys are file or directory names.\n",
        "                      Values are file sizes (in KB) or subdirectory dictionaries.\n",
        "    :return: Total size of the directory in KB.\n",
        "    \"\"\"\n",
        "    total_size = 0\n",
        "    for name, value in directory.items():\n",
        "        if isinstance(value, dict):  # If the value is a subdirectory, calculate its size recursively\n",
        "            total_size += calculate_directory_size(value)\n",
        "        else:  # If the value is a file size, add it to the total size\n",
        "            total_size += value\n",
        "    return total_size\n",
        "\n",
        "# Sample directory structure for testing\n",
        "sample_directory = {\n",
        "    \"file1.txt\": 500,\n",
        "    \"file2.txt\": 1200,\n",
        "    \"subdir1\": {\n",
        "        \"file3.txt\": 700,\n",
        "        \"file4.txt\": 300,\n",
        "        \"subsubdir1\": {\n",
        "            \"file5.txt\": 100,\n",
        "            \"file6.txt\": 200,\n",
        "        },\n",
        "    },\n",
        "    \"subdir2\": {\n",
        "        \"file7.txt\": 400,\n",
        "    },\n",
        "}\n",
        "\n",
        "# Test the function\n",
        "total_size = calculate_directory_size(sample_directory)\n",
        "print(f\"The total size of the directory is: {total_size} KB\")\n"
      ],
      "metadata": {
        "colab": {
          "base_uri": "https://localhost:8080/"
        },
        "id": "5HgCLvDQdwl9",
        "outputId": "0114a119-d44c-4762-ed86-a32a1c01ec5f"
      },
      "execution_count": 8,
      "outputs": [
        {
          "output_type": "stream",
          "name": "stdout",
          "text": [
            "The total size of the directory is: 3400 KB\n"
          ]
        }
      ]
    },
    {
      "cell_type": "markdown",
      "source": [
        " Exercises- Dynamic Programming:\n",
        " Task 1- Coin Change Problem:\n",
        " Scenario: Given a set of coin denominations and a target amount, find the minimum number\n",
        " of coins needed to make the amount. If it’s not possible, return- 1.\n",
        " Task:\n",
        " 1. Write a function min_coins(coins, amount) that:\n",
        " • Uses DP to calculate the minimum number of coins needed to make up the\n",
        " amount.\n",
        " 2. Test with coins = [1, 2, 5] and amount = 11. The result should be 3 (using coins\n",
        " [5, 5, 1])"
      ],
      "metadata": {
        "id": "Og_yYA0Td6Gk"
      }
    },
    {
      "cell_type": "code",
      "source": [
        "def min_coins(coins, amount):\n",
        "    \"\"\"\n",
        "    Finds the minimum number of coins needed to make up the given amount using DP.\n",
        "\n",
        "    :param coins: List of coin denominations.\n",
        "    :param amount: The target amount.\n",
        "    :return: Minimum number of coins needed, or -1 if it's not possible.\n",
        "    \"\"\"\n",
        "    # Initialize the DP array with a high value (infinity-like)\n",
        "    dp = [float('inf')] * (amount + 1)\n",
        "    dp[0] = 0  # Base case: no coins are needed to make amount 0\n",
        "\n",
        "    # Build the DP table\n",
        "    for coin in coins:\n",
        "        for x in range(coin, amount + 1):\n",
        "            dp[x] = min(dp[x], dp[x - coin] + 1)\n",
        "\n",
        "    # If dp[amount] is still 'inf', the amount cannot be made with given coins\n",
        "    return dp[amount] if dp[amount] != float('inf') else -1\n",
        "\n",
        "# Test the function\n",
        "coins = [1, 2, 5]\n",
        "amount = 11\n",
        "result = min_coins(coins, amount)\n",
        "print(f\"Minimum number of coins needed to make {amount}: {result}\")\n",
        "\n"
      ],
      "metadata": {
        "colab": {
          "base_uri": "https://localhost:8080/"
        },
        "id": "Br6mlGLSd27v",
        "outputId": "347487fe-0fc2-4894-dbed-4545bf11b867"
      },
      "execution_count": 9,
      "outputs": [
        {
          "output_type": "stream",
          "name": "stdout",
          "text": [
            "Minimum number of coins needed to make 11: 3\n"
          ]
        }
      ]
    },
    {
      "cell_type": "markdown",
      "source": [
        "Task2-LongestCommonSubsequence(LCS):\n",
        " Scenario: Giventwostrings, findthe lengthof their longestcommonsubsequence(LCS).\n",
        " Thisisuseful intextcomparison.\n",
        " Task:\n",
        " 1.Writeafunctionlongest_common_subsequence(s1,s2)that:\n",
        " •UsesDPtofindthelengthoftheLCSoftwostringss1ands2.\n",
        " 2. Testwithstringslike\"abcde\" and \"ace\";theLCSlengthshouldbe3 (\"ace\")."
      ],
      "metadata": {
        "id": "gOEmGlVsd-xr"
      }
    },
    {
      "cell_type": "code",
      "source": [
        "def longest_common_subsequence(s1, s2):\n",
        "    \"\"\"\n",
        "    Finds the length of the longest common subsequence (LCS) between two strings using DP.\n",
        "\n",
        "    :param s1: First string.\n",
        "    :param s2: Second string.\n",
        "    :return: Length of the LCS.\n",
        "    \"\"\"\n",
        "    # Create a DP table with dimensions (len(s1)+1) x (len(s2)+1)\n",
        "    dp = [[0] * (len(s2) + 1) for _ in range(len(s1) + 1)]\n",
        "\n",
        "    # Fill the DP table\n",
        "    for i in range(1, len(s1) + 1):\n",
        "        for j in range(1, len(s2) + 1):\n",
        "            if s1[i - 1] == s2[j - 1]:  # Characters match\n",
        "                dp[i][j] = dp[i - 1][j - 1] + 1\n",
        "            else:  # Characters don't match\n",
        "                dp[i][j] = max(dp[i - 1][j], dp[i][j - 1])\n",
        "\n",
        "    return dp[len(s1)][len(s2)]\n",
        "\n",
        "# Test the function\n",
        "s1 = \"abcde\"\n",
        "s2 = \"ace\"\n",
        "result = longest_common_subsequence(s1, s2)\n",
        "print(f\"Length of the LCS between '{s1}' and '{s2}': {result}\")\n"
      ],
      "metadata": {
        "colab": {
          "base_uri": "https://localhost:8080/"
        },
        "id": "uPIeFruId9uC",
        "outputId": "cd11698b-05d9-4e10-9860-64f938b2d9ee"
      },
      "execution_count": 10,
      "outputs": [
        {
          "output_type": "stream",
          "name": "stdout",
          "text": [
            "Length of the LCS between 'abcde' and 'ace': 3\n",
            "Length of the LCS between 'abcde' and 'ace': 3\n"
          ]
        }
      ]
    },
    {
      "cell_type": "markdown",
      "source": [
        " Task 3- 0/1 Knapsack Problem:\n",
        " Scenario: You have a list of items, each with a weight and a value. Given a weight capacity,\n",
        " maximize the total value of items you can carry without exceeding the weight capacity.\n",
        " Task:\n",
        " 1. Write a function knapsack(weights, values, capacity) that:\n",
        " • Uses DP to determine the maximum value that can be achieved within the given\n",
        " weight capacity.\n",
        " 2. Test with weights [1, 3, 4, 5], values [1, 4, 5, 7], and capacity 7. The re\n",
        "sult should be 9."
      ],
      "metadata": {
        "id": "R_Cb9JGSeF_B"
      }
    },
    {
      "cell_type": "code",
      "source": [
        "def knapsack(weights, values, capacity):\n",
        "    \"\"\"\n",
        "    Solves the 0/1 Knapsack Problem using DP to maximize the value within the given capacity.\n",
        "\n",
        "    :param weights: List of weights of the items.\n",
        "    :param values: List of values of the items.\n",
        "    :param capacity: Maximum weight capacity of the knapsack.\n",
        "    :return: Maximum value that can be achieved within the given capacity.\n",
        "    \"\"\"\n",
        "    n = len(weights)\n",
        "    # DP table where dp[i][w] represents the maximum value that can be obtained with\n",
        "    # the first i items and weight capacity w\n",
        "    dp = [[0] * (capacity + 1) for _ in range(n + 1)]\n",
        "\n",
        "    # Fill the DP table\n",
        "    for i in range(1, n + 1):\n",
        "        for w in range(1, capacity + 1):\n",
        "            if weights[i - 1] <= w:  # If the item can be included\n",
        "                dp[i][w] = max(dp[i - 1][w], dp[i - 1][w - weights[i - 1]] + values[i - 1])\n",
        "            else:  # If the item cannot be included\n",
        "                dp[i][w] = dp[i - 1][w]\n",
        "\n",
        "    # The value at dp[n][capacity] is the maximum value that can be achieved\n",
        "    return dp[n][capacity]\n",
        "\n",
        "# Test the function\n",
        "weights = [1, 3, 4, 5]\n",
        "values = [1, 4, 5, 7]\n",
        "capacity = 7\n",
        "result = knapsack(weights, values, capacity)\n",
        "print(f\"Maximum value that can be achieved with capacity {capacity}: {result}\")\n"
      ],
      "metadata": {
        "colab": {
          "base_uri": "https://localhost:8080/"
        },
        "id": "-5Uw_gkMeDTT",
        "outputId": "1822c8c1-5db3-4911-fb34-146147df663c"
      },
      "execution_count": 12,
      "outputs": [
        {
          "output_type": "stream",
          "name": "stdout",
          "text": [
            "Maximum value that can be achieved with capacity 7: 9\n"
          ]
        }
      ]
    },
    {
      "cell_type": "code",
      "source": [],
      "metadata": {
        "id": "w8hmgMMaeIW1"
      },
      "execution_count": null,
      "outputs": []
    }
  ]
}