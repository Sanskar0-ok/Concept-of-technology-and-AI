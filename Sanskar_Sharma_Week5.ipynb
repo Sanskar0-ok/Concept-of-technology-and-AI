{
  "nbformat": 4,
  "nbformat_minor": 0,
  "metadata": {
    "colab": {
      "provenance": []
    },
    "kernelspec": {
      "name": "python3",
      "display_name": "Python 3"
    },
    "language_info": {
      "name": "python"
    }
  },
  "cells": [
    {
      "cell_type": "code",
      "execution_count": 18,
      "metadata": {
        "id": "FAgKsu-dyTsD"
      },
      "outputs": [],
      "source": [
        "import pandas as pd\n",
        "import numpy as np\n",
        "from google.colab import drive"
      ]
    },
    {
      "cell_type": "code",
      "source": [
        "#Load the dataset\n",
        "data = pd.read_csv('/content/drive/MyDrive/Concepts and Technology of AI/student.csv')"
      ],
      "metadata": {
        "id": "HTmiQpACyi0_"
      },
      "execution_count": 14,
      "outputs": []
    },
    {
      "cell_type": "code",
      "source": [
        "print(\"Top 5 rows of the dataset:\")\n",
        "print(data.head())"
      ],
      "metadata": {
        "colab": {
          "base_uri": "https://localhost:8080/"
        },
        "id": "nQMu2AG5y-2O",
        "outputId": "1483aa9c-9b9a-4087-f818-cc4078523aa6"
      },
      "execution_count": 3,
      "outputs": [
        {
          "output_type": "stream",
          "name": "stdout",
          "text": [
            "Top 5 rows of the dataset:\n",
            "   Student ID   Age  Gender      Height     Weight Blood Type        BMI  \\\n",
            "0         1.0  18.0  Female  161.777924  72.354947          O  27.645835   \n",
            "1         2.0   NaN    Male  152.069157  47.630941          B        NaN   \n",
            "2         3.0  32.0  Female  182.537664  55.741083          A  16.729017   \n",
            "3         NaN  30.0    Male  182.112867  63.332207          B  19.096042   \n",
            "4         5.0  23.0  Female         NaN  46.234173          O        NaN   \n",
            "\n",
            "   Temperature  Heart Rate  Blood Pressure  Cholesterol Diabetes Smoking  \n",
            "0          NaN        95.0           109.0        203.0       No     NaN  \n",
            "1    98.714977        93.0           104.0        163.0       No      No  \n",
            "2    98.260293        76.0           130.0        216.0      Yes      No  \n",
            "3    98.839605        99.0           112.0        141.0       No     Yes  \n",
            "4    98.480008        95.0             NaN        231.0       No      No  \n"
          ]
        }
      ]
    },
    {
      "cell_type": "code",
      "source": [
        "print(\"\\nBottom 5 rows of the dataset:\")\n",
        "print(data.tail())"
      ],
      "metadata": {
        "colab": {
          "base_uri": "https://localhost:8080/"
        },
        "id": "nTDWeyD0zE8W",
        "outputId": "2c7874fe-fdc4-471b-fdde-8ad0135e6d89"
      },
      "execution_count": 4,
      "outputs": [
        {
          "output_type": "stream",
          "name": "stdout",
          "text": [
            "\n",
            "Bottom 5 rows of the dataset:\n",
            "        Student ID   Age  Gender      Height     Weight Blood Type        BMI  \\\n",
            "199995         NaN  24.0    Male  176.503260  95.756997          B  30.737254   \n",
            "199996     99997.0  29.0  Female  163.917675  45.225194        NaN  16.831734   \n",
            "199997     99998.0  34.0  Female         NaN  99.648914        NaN  33.189303   \n",
            "199998     99999.0  30.0  Female  156.446944  50.142824          A  20.486823   \n",
            "199999    100000.0  20.0  Female  153.927409  99.928405          O  42.175189   \n",
            "\n",
            "        Temperature  Heart Rate  Blood Pressure  Cholesterol Diabetes Smoking  \n",
            "199995    99.170685        65.0           121.0        130.0       No      No  \n",
            "199996    97.865785        62.0           125.0        198.0       No     Yes  \n",
            "199997    98.768210        60.0            90.0        154.0      NaN      No  \n",
            "199998    98.994212        61.0           106.0        225.0       No      No  \n",
            "199999    98.595817        95.0           133.0        132.0      NaN      No  \n"
          ]
        }
      ]
    },
    {
      "cell_type": "code",
      "source": [
        "print(\"\\nDataset Information:\")\n",
        "print(data.info())\n"
      ],
      "metadata": {
        "colab": {
          "base_uri": "https://localhost:8080/"
        },
        "id": "2P5MwsVAzMOB",
        "outputId": "e15f5ddf-b1cf-4b05-dcbe-a6c373388b13"
      },
      "execution_count": 5,
      "outputs": [
        {
          "output_type": "stream",
          "name": "stdout",
          "text": [
            "\n",
            "Dataset Information:\n",
            "<class 'pandas.core.frame.DataFrame'>\n",
            "RangeIndex: 200000 entries, 0 to 199999\n",
            "Data columns (total 13 columns):\n",
            " #   Column          Non-Null Count   Dtype  \n",
            "---  ------          --------------   -----  \n",
            " 0   Student ID      180000 non-null  float64\n",
            " 1   Age             180000 non-null  float64\n",
            " 2   Gender          180000 non-null  object \n",
            " 3   Height          180000 non-null  float64\n",
            " 4   Weight          180000 non-null  float64\n",
            " 5   Blood Type      180000 non-null  object \n",
            " 6   BMI             180000 non-null  float64\n",
            " 7   Temperature     180000 non-null  float64\n",
            " 8   Heart Rate      180000 non-null  float64\n",
            " 9   Blood Pressure  180000 non-null  float64\n",
            " 10  Cholesterol     180000 non-null  float64\n",
            " 11  Diabetes        180000 non-null  object \n",
            " 12  Smoking         180000 non-null  object \n",
            "dtypes: float64(9), object(4)\n",
            "memory usage: 19.8+ MB\n",
            "None\n"
          ]
        }
      ]
    },
    {
      "cell_type": "code",
      "source": [
        "print(\"\\nDescriptive Statistics:\")\n",
        "print(data.describe())"
      ],
      "metadata": {
        "colab": {
          "base_uri": "https://localhost:8080/"
        },
        "id": "eM8x1zmvzOLj",
        "outputId": "aacd511d-8d66-4589-bba0-c8560a6314b9"
      },
      "execution_count": 6,
      "outputs": [
        {
          "output_type": "stream",
          "name": "stdout",
          "text": [
            "\n",
            "Descriptive Statistics:\n",
            "          Student ID            Age         Height         Weight  \\\n",
            "count  180000.000000  180000.000000  180000.000000  180000.000000   \n",
            "mean    49974.042078      26.021561     174.947103      69.971585   \n",
            "std     28879.641657       4.890528      14.447560      17.322574   \n",
            "min         1.000000      18.000000     150.000041      40.000578   \n",
            "25%     24971.750000      22.000000     162.476110      54.969838   \n",
            "50%     49943.500000      26.000000     174.899914      69.979384   \n",
            "75%     74986.000000      30.000000     187.464417      84.980097   \n",
            "max    100000.000000      34.000000     199.998639      99.999907   \n",
            "\n",
            "                 BMI    Temperature     Heart Rate  Blood Pressure  \\\n",
            "count  180000.000000  180000.000000  180000.000000   180000.000000   \n",
            "mean       23.338869      98.600948      79.503767      114.558033   \n",
            "std         7.033554       0.500530      11.540755       14.403353   \n",
            "min        10.074837      96.397835      60.000000       90.000000   \n",
            "25%        17.858396      98.264750      70.000000      102.000000   \n",
            "50%        22.671401      98.599654      80.000000      115.000000   \n",
            "75%        27.997487      98.940543      90.000000      127.000000   \n",
            "max        44.355113     100.824857      99.000000      139.000000   \n",
            "\n",
            "         Cholesterol  \n",
            "count  180000.000000  \n",
            "mean      184.486361  \n",
            "std        37.559678  \n",
            "min       120.000000  \n",
            "25%       152.000000  \n",
            "50%       184.000000  \n",
            "75%       217.000000  \n",
            "max       249.000000  \n"
          ]
        }
      ]
    },
    {
      "cell_type": "code",
      "source": [
        "X = data[['Math', 'Reading']].values\n",
        "Y = data['Writing'].values\n",
        "\n",
        "# Print the feature and target shapes\n",
        "print(\"\\nFeature matrix (X) shape:\", X.shape)\n",
        "print(\"Target vector (Y) shape:\", Y.shape)"
      ],
      "metadata": {
        "colab": {
          "base_uri": "https://localhost:8080/"
        },
        "id": "mJWjD_-_zSCt",
        "outputId": "1f9aaaf6-cdd1-48af-803f-323f0e679aa3"
      },
      "execution_count": 8,
      "outputs": [
        {
          "output_type": "stream",
          "name": "stdout",
          "text": [
            "\n",
            "Feature matrix (X) shape: (200000, 2)\n",
            "Target vector (Y) shape: (200000,)\n"
          ]
        }
      ]
    },
    {
      "cell_type": "code",
      "source": [
        "#Task 2: Build a cost Function\n",
        "def cost_function(X, Y, W):\n",
        "    \"\"\"\n",
        "    Calculates the Mean Squared Error.\n",
        "    \"\"\"\n",
        "    n = len(Y)\n",
        "    Y_pred = np.dot(X, W)\n",
        "    cost = (1 / (2 * n)) * np.sum((Y_pred - Y) ** 2)\n",
        "    return cost"
      ],
      "metadata": {
        "id": "LLsr7EMC0ihB"
      },
      "execution_count": 21,
      "outputs": []
    },
    {
      "cell_type": "code",
      "source": [
        "#Task 3: Gradient Descent\n",
        "def gradient_descent(X, Y, W, alpha, iterations):\n",
        "    \"\"\"\n",
        "    Performs gradient descent to optimize weights.\n",
        "    \"\"\"\n",
        "    n = len(Y)\n",
        "    cost_history = []\n",
        "\n",
        "    for i in range(iterations):\n",
        "        Y_pred = np.dot(X, W)\n",
        "        loss = Y_pred - Y\n",
        "        gradient = (1 / n) * np.dot(X.T, loss)\n",
        "        W -= alpha * gradient\n",
        "        cost = cost_function(X, Y, W)\n",
        "        cost_history.append(cost)\n",
        "\n",
        "    return W, cost_history\n"
      ],
      "metadata": {
        "id": "lD_77rc62H6d"
      },
      "execution_count": 22,
      "outputs": []
    },
    {
      "cell_type": "code",
      "source": [
        "#Task 4: Evaluate the Model\n",
        "def rmse(Y, Y_pred):\n",
        "    return np.sqrt(np.mean((Y_pred - Y) ** 2))\n",
        "\n",
        "def r2(Y, Y_pred):\n",
        "    ss_res = np.sum((Y - Y_pred) ** 2)\n",
        "    ss_tot = np.sum((Y - np.mean(Y)) ** 2)\n",
        "    return 1 - (ss_res / ss_tot)\n"
      ],
      "metadata": {
        "id": "FDC97TkJ2Nio"
      },
      "execution_count": 23,
      "outputs": []
    },
    {
      "cell_type": "code",
      "source": [
        "#Task 5: Integrate All Steps\n",
        "def main():\n",
        "    # Step 1: Load the dataset\n",
        "    data = pd.read_csv('/content/drive/MyDrive/Concepts and Technology of AI/student.csv')\n",
        "\n",
        "    # Step 2: Prepare features (X) and target (Y)\n",
        "    X = data[['Math', 'Reading']].values\n",
        "    Y = data['Writing'].values\n",
        "\n",
        "    # Step 3: Split data into training and test sets\n",
        "    from sklearn.model_selection import train_test_split\n",
        "    X_train, X_test, Y_train, Y_test = train_test_split(X, Y, test_size=0.2, random_state=42)\n",
        "\n",
        "    # Step 4: Initialize weights, learning rate, and iterations\n",
        "    W = np.zeros(X_train.shape[1])\n",
        "    alpha = 0.0001\n",
        "    iterations = 1000\n",
        "\n",
        "    # Step 5: Perform gradient descent\n",
        "    W_optimal, cost_history = gradient_descent(X_train, Y_train, W, alpha, iterations)\n",
        "\n",
        "    # Step 6: Evaluate the model\n",
        "    Y_pred = np.dot(X_test, W_optimal)\n",
        "    model_rmse = rmse(Y_test, Y_pred)\n",
        "    model_r2 = r2(Y_test, Y_pred)\n",
        "\n",
        "    # Output the results\n",
        "    print(\"Optimal Weights:\", W_optimal)\n",
        "    print(\"RMSE:\", model_rmse)\n",
        "    print(\"R2 Score:\", model_r2)\n",
        "\n",
        "if __name__ == \"__main__\":\n",
        "    main()\n"
      ],
      "metadata": {
        "colab": {
          "base_uri": "https://localhost:8080/"
        },
        "id": "QGR4HuGL2SOq",
        "outputId": "56c6a43e-1366-4a36-88d7-57ba566bdb10"
      },
      "execution_count": 19,
      "outputs": [
        {
          "output_type": "stream",
          "name": "stdout",
          "text": [
            "Optimal Weights: [0.0894932  0.89504864]\n",
            "RMSE: 4.792607360540954\n",
            "R2 Score: 0.908240340333986\n"
          ]
        }
      ]
    },
    {
      "cell_type": "markdown",
      "source": [],
      "metadata": {
        "id": "BLtQPY-A3VQK"
      }
    }
  ]
}